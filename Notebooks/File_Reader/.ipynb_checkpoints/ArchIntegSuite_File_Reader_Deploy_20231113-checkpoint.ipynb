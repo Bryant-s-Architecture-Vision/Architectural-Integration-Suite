{
 "cells": [
  {
   "cell_type": "markdown",
   "id": "80407a59",
   "metadata": {},
   "source": [
    "# File Reader Notebook\n"
   ]
  },
  {
   "cell_type": "markdown",
   "id": "d42d685b",
   "metadata": {},
   "source": [
    "\n",
    "        # Notebook Overview\n",
    "        # -----------------\n",
    "        # This notebook is a part of the Architectural Integration Suite and focuses on the 'File Reader' component.\n",
    "        # It guides you through setting up an Azure ML environment, testing the component, and preparing for deployment.\n",
    "\n",
    "        # Sections:\n",
    "        # 1. Environment Setup\n",
    "        # 2. Code Testing\n",
    "        # 3. Deployment Preparation\n",
    "        # 4. Additional Information and Best Practices\n",
    "        "
   ]
  },
  {
   "cell_type": "markdown",
   "id": "ddf04f2b",
   "metadata": {},
   "source": [
    "\n",
    "        # 1. Environment Setup\n",
    "        # ---------------------\n",
    "        # This section covers the setup of your Azure ML environment.\n",
    "        # Ensure that you have your conda specification YAML file (e.g., 'conda-specification.yml') ready.\n",
    "        "
   ]
  },
  {
   "cell_type": "code",
   "execution_count": 2,
   "id": "6e074db4",
   "metadata": {},
   "outputs": [
    {
     "ename": "ValidationException",
     "evalue": "No such file or directory: /mnt/batch/tasks/shared/LS_root/mounts/clusters/testcompute12/code/Users/Bryant.ellis/Architectural-Integration-Suite/Notebooks/File_Reader/path/to/your/conda-specification.yml",
     "output_type": "error",
     "traceback": [
      "\u001b[0;31m---------------------------------------------------------------------------\u001b[0m",
      "\u001b[0;31mFileNotFoundError\u001b[0m                         Traceback (most recent call last)",
      "File \u001b[0;32m/anaconda/envs/azureml_py38/lib/python3.8/site-packages/azure/ai/ml/_utils/utils.py:312\u001b[0m, in \u001b[0;36mload_yaml\u001b[0;34m(source)\u001b[0m\n\u001b[1;32m    311\u001b[0m \u001b[38;5;28;01mtry\u001b[39;00m:\n\u001b[0;32m--> 312\u001b[0m     cm \u001b[38;5;241m=\u001b[39m \u001b[38;5;28;43mopen\u001b[39;49m\u001b[43m(\u001b[49m\u001b[43msource\u001b[49m\u001b[43m,\u001b[49m\u001b[43m \u001b[49m\u001b[38;5;124;43m\"\u001b[39;49m\u001b[38;5;124;43mr\u001b[39;49m\u001b[38;5;124;43m\"\u001b[39;49m\u001b[43m,\u001b[49m\u001b[43m \u001b[49m\u001b[43mencoding\u001b[49m\u001b[38;5;241;43m=\u001b[39;49m\u001b[43mDefaultOpenEncoding\u001b[49m\u001b[38;5;241;43m.\u001b[39;49m\u001b[43mREAD\u001b[49m\u001b[43m)\u001b[49m\n\u001b[1;32m    313\u001b[0m \u001b[38;5;28;01mexcept\u001b[39;00m \u001b[38;5;167;01mOSError\u001b[39;00m \u001b[38;5;28;01mas\u001b[39;00m e:\n",
      "\u001b[0;31mFileNotFoundError\u001b[0m: [Errno 2] No such file or directory: '/mnt/batch/tasks/shared/LS_root/mounts/clusters/testcompute12/code/Users/Bryant.ellis/Architectural-Integration-Suite/Notebooks/File_Reader/path/to/your/conda-specification.yml'",
      "\nThe above exception was the direct cause of the following exception:\n",
      "\u001b[0;31mValidationException\u001b[0m                       Traceback (most recent call last)",
      "Cell \u001b[0;32mIn[2], line 17\u001b[0m\n\u001b[1;32m     15\u001b[0m env_name \u001b[38;5;241m=\u001b[39m \u001b[38;5;124m\"\u001b[39m\u001b[38;5;124myour_environment_name\u001b[39m\u001b[38;5;124m\"\u001b[39m\n\u001b[1;32m     16\u001b[0m conda_spec_path \u001b[38;5;241m=\u001b[39m \u001b[38;5;124m\"\u001b[39m\u001b[38;5;124mpath/to/your/conda-specification.yml\u001b[39m\u001b[38;5;124m\"\u001b[39m\n\u001b[0;32m---> 17\u001b[0m env_from_conda \u001b[38;5;241m=\u001b[39m \u001b[43mEnvironment\u001b[49m\u001b[43m(\u001b[49m\u001b[43mname\u001b[49m\u001b[38;5;241;43m=\u001b[39;49m\u001b[43menv_name\u001b[49m\u001b[43m,\u001b[49m\u001b[43m \u001b[49m\u001b[43mconda_file\u001b[49m\u001b[38;5;241;43m=\u001b[39;49m\u001b[43mconda_spec_path\u001b[49m\u001b[43m)\u001b[49m\n\u001b[1;32m     19\u001b[0m \u001b[38;5;66;03m# Create or update the environment in Azure ML\u001b[39;00m\n\u001b[1;32m     20\u001b[0m ml_client\u001b[38;5;241m.\u001b[39menvironments\u001b[38;5;241m.\u001b[39mcreate_or_update(env_from_conda)\n",
      "File \u001b[0;32m/anaconda/envs/azureml_py38/lib/python3.8/site-packages/azure/ai/ml/entities/_assets/environment.py:138\u001b[0m, in \u001b[0;36mEnvironment.__init__\u001b[0;34m(self, name, version, description, image, build, conda_file, tags, properties, datastore, **kwargs)\u001b[0m\n\u001b[1;32m    127\u001b[0m \u001b[38;5;28mself\u001b[39m\u001b[38;5;241m.\u001b[39m_intellectual_property \u001b[38;5;241m=\u001b[39m kwargs\u001b[38;5;241m.\u001b[39mpop(\u001b[38;5;124m\"\u001b[39m\u001b[38;5;124mintellectual_property\u001b[39m\u001b[38;5;124m\"\u001b[39m, \u001b[38;5;28;01mNone\u001b[39;00m)\n\u001b[1;32m    129\u001b[0m \u001b[38;5;28msuper\u001b[39m()\u001b[38;5;241m.\u001b[39m\u001b[38;5;21m__init__\u001b[39m(\n\u001b[1;32m    130\u001b[0m     name\u001b[38;5;241m=\u001b[39mname,\n\u001b[1;32m    131\u001b[0m     version\u001b[38;5;241m=\u001b[39mversion,\n\u001b[0;32m   (...)\u001b[0m\n\u001b[1;32m    135\u001b[0m     \u001b[38;5;241m*\u001b[39m\u001b[38;5;241m*\u001b[39mkwargs,\n\u001b[1;32m    136\u001b[0m )\n\u001b[0;32m--> 138\u001b[0m \u001b[38;5;28;43mself\u001b[39;49m\u001b[38;5;241;43m.\u001b[39;49m\u001b[43mconda_file\u001b[49m \u001b[38;5;241m=\u001b[39m conda_file\n\u001b[1;32m    139\u001b[0m \u001b[38;5;28mself\u001b[39m\u001b[38;5;241m.\u001b[39mimage \u001b[38;5;241m=\u001b[39m image\n\u001b[1;32m    140\u001b[0m \u001b[38;5;28mself\u001b[39m\u001b[38;5;241m.\u001b[39mbuild \u001b[38;5;241m=\u001b[39m build\n",
      "File \u001b[0;32m/anaconda/envs/azureml_py38/lib/python3.8/site-packages/azure/ai/ml/entities/_assets/environment.py:191\u001b[0m, in \u001b[0;36mEnvironment.conda_file\u001b[0;34m(self, value)\u001b[0m\n\u001b[1;32m    184\u001b[0m \u001b[38;5;250m\u001b[39m\u001b[38;5;124;03m\"\"\"Set conda environment specification.\u001b[39;00m\n\u001b[1;32m    185\u001b[0m \n\u001b[1;32m    186\u001b[0m \u001b[38;5;124;03m:param value: A path to a local conda dependencies yaml file or a loaded yaml dictionary of dependencies.\u001b[39;00m\n\u001b[1;32m    187\u001b[0m \u001b[38;5;124;03m:type value: Union[str, os.PathLike, Dict]\u001b[39;00m\n\u001b[1;32m    188\u001b[0m \u001b[38;5;124;03m:return: None\u001b[39;00m\n\u001b[1;32m    189\u001b[0m \u001b[38;5;124;03m\"\"\"\u001b[39;00m\n\u001b[1;32m    190\u001b[0m \u001b[38;5;28;01mif\u001b[39;00m \u001b[38;5;129;01mnot\u001b[39;00m \u001b[38;5;28misinstance\u001b[39m(value, Dict):\n\u001b[0;32m--> 191\u001b[0m     value \u001b[38;5;241m=\u001b[39m \u001b[43m_deserialize\u001b[49m\u001b[43m(\u001b[49m\u001b[38;5;28;43mself\u001b[39;49m\u001b[38;5;241;43m.\u001b[39;49m\u001b[43mbase_path\u001b[49m\u001b[43m,\u001b[49m\u001b[43m \u001b[49m\u001b[43mvalue\u001b[49m\u001b[43m,\u001b[49m\u001b[43m \u001b[49m\u001b[43mis_conda\u001b[49m\u001b[38;5;241;43m=\u001b[39;49m\u001b[38;5;28;43;01mTrue\u001b[39;49;00m\u001b[43m)\u001b[49m\n\u001b[1;32m    192\u001b[0m \u001b[38;5;28mself\u001b[39m\u001b[38;5;241m.\u001b[39m_conda_file \u001b[38;5;241m=\u001b[39m value\n",
      "File \u001b[0;32m/anaconda/envs/azureml_py38/lib/python3.8/site-packages/azure/ai/ml/entities/_assets/environment.py:446\u001b[0m, in \u001b[0;36m_deserialize\u001b[0;34m(base_path, input, is_conda)\u001b[0m\n\u001b[1;32m    444\u001b[0m path \u001b[38;5;241m=\u001b[39m _resolve_path(base_path\u001b[38;5;241m=\u001b[39mbase_path, \u001b[38;5;28minput\u001b[39m\u001b[38;5;241m=\u001b[39m\u001b[38;5;28minput\u001b[39m)\n\u001b[1;32m    445\u001b[0m \u001b[38;5;28;01mif\u001b[39;00m is_conda:\n\u001b[0;32m--> 446\u001b[0m     data \u001b[38;5;241m=\u001b[39m \u001b[43mload_yaml\u001b[49m\u001b[43m(\u001b[49m\u001b[43mpath\u001b[49m\u001b[43m)\u001b[49m\n\u001b[1;32m    447\u001b[0m \u001b[38;5;28;01melse\u001b[39;00m:\n\u001b[1;32m    448\u001b[0m     data \u001b[38;5;241m=\u001b[39m load_file(path)\n",
      "File \u001b[0;32m/anaconda/envs/azureml_py38/lib/python3.8/site-packages/azure/ai/ml/_utils/utils.py:315\u001b[0m, in \u001b[0;36mload_yaml\u001b[0;34m(source)\u001b[0m\n\u001b[1;32m    313\u001b[0m     \u001b[38;5;28;01mexcept\u001b[39;00m \u001b[38;5;167;01mOSError\u001b[39;00m \u001b[38;5;28;01mas\u001b[39;00m e:\n\u001b[1;32m    314\u001b[0m         msg \u001b[38;5;241m=\u001b[39m \u001b[38;5;124m\"\u001b[39m\u001b[38;5;124mNo such file or directory: \u001b[39m\u001b[38;5;132;01m{}\u001b[39;00m\u001b[38;5;124m\"\u001b[39m\n\u001b[0;32m--> 315\u001b[0m         \u001b[38;5;28;01mraise\u001b[39;00m ValidationException(\n\u001b[1;32m    316\u001b[0m             message\u001b[38;5;241m=\u001b[39mmsg\u001b[38;5;241m.\u001b[39mformat(source),\n\u001b[1;32m    317\u001b[0m             no_personal_data_message\u001b[38;5;241m=\u001b[39mmsg\u001b[38;5;241m.\u001b[39mformat(\u001b[38;5;124m\"\u001b[39m\u001b[38;5;124m[file_path]\u001b[39m\u001b[38;5;124m\"\u001b[39m),\n\u001b[1;32m    318\u001b[0m             error_category\u001b[38;5;241m=\u001b[39mErrorCategory\u001b[38;5;241m.\u001b[39mUSER_ERROR,\n\u001b[1;32m    319\u001b[0m             target\u001b[38;5;241m=\u001b[39mErrorTarget\u001b[38;5;241m.\u001b[39mGENERAL,\n\u001b[1;32m    320\u001b[0m             error_type\u001b[38;5;241m=\u001b[39mValidationErrorType\u001b[38;5;241m.\u001b[39mFILE_OR_FOLDER_NOT_FOUND,\n\u001b[1;32m    321\u001b[0m         ) \u001b[38;5;28;01mfrom\u001b[39;00m \u001b[38;5;21;01me\u001b[39;00m\n\u001b[1;32m    322\u001b[0m \u001b[38;5;28;01melse\u001b[39;00m:\n\u001b[1;32m    323\u001b[0m     \u001b[38;5;66;03m# source is a subclass of IO\u001b[39;00m\n\u001b[1;32m    324\u001b[0m     \u001b[38;5;28;01mif\u001b[39;00m \u001b[38;5;129;01mnot\u001b[39;00m source\u001b[38;5;241m.\u001b[39mreadable():\n",
      "\u001b[0;31mValidationException\u001b[0m: No such file or directory: /mnt/batch/tasks/shared/LS_root/mounts/clusters/testcompute12/code/Users/Bryant.ellis/Architectural-Integration-Suite/Notebooks/File_Reader/path/to/your/conda-specification.yml"
     ]
    }
   ],
   "source": [
    "\n",
    "        # Import required libraries\n",
    "        from azure.ai.ml import MLClient\n",
    "        from azure.identity import DefaultAzureCredential\n",
    "        from azure.ai.ml.entities import Environment\n",
    "\n",
    "        # Define Azure ML workspace details\n",
    "        subscription_id = '<SUBSCRIPTION_ID>'\n",
    "        resource_group = '<RESOURCE_GROUP>'\n",
    "        workspace_name = '<AZUREML_WORKSPACE_NAME>'\n",
    "\n",
    "        # Connect to the Azure ML workspace\n",
    "        ml_client = MLClient(DefaultAzureCredential(), subscription_id, resource_group, workspace_name)\n",
    "\n",
    "        # Define the environment from the Conda specification\n",
    "        env_name = \"your_environment_name\"\n",
    "        conda_spec_path = \"path/to/your/conda-specification.yml\"\n",
    "        env_from_conda = Environment(name=env_name, conda_file=conda_spec_path)\n",
    "\n",
    "        # Create or update the environment in Azure ML\n",
    "        ml_client.environments.create_or_update(env_from_conda)\n",
    "        "
   ]
  },
  {
   "cell_type": "code",
   "execution_count": null,
   "id": "d5935913",
   "metadata": {},
   "outputs": [],
   "source": []
  }
 ],
 "metadata": {
  "kernelspec": {
   "display_name": "Python 3.8 - AzureML",
   "language": "python",
   "name": "python38-azureml"
  },
  "language_info": {
   "codemirror_mode": {
    "name": "ipython",
    "version": 3
   },
   "file_extension": ".py",
   "mimetype": "text/x-python",
   "name": "python",
   "nbconvert_exporter": "python",
   "pygments_lexer": "ipython3",
   "version": "3.8.5"
  }
 },
 "nbformat": 4,
 "nbformat_minor": 5
}
