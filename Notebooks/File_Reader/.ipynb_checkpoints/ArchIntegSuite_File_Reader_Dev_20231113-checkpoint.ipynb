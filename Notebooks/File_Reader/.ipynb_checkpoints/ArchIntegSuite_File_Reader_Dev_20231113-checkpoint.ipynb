{
 "cells": [
  {
   "cell_type": "markdown",
   "id": "d3cf4bc6",
   "metadata": {},
   "source": [
    "# File Reader Notebook\n"
   ]
  },
  {
   "cell_type": "markdown",
   "id": "df96bc43",
   "metadata": {},
   "source": [
    "\n",
    "        # Notebook Overview\n",
    "        # -----------------\n",
    "        # This notebook is a part of the Architectural Integration Suite and focuses on the 'File Reader' component.\n",
    "        # It guides you through setting up an Azure ML environment, testing the component, and preparing for deployment.\n",
    "\n",
    "        # Sections:\n",
    "        # 1. Environment Setup\n",
    "        # 2. Code Testing\n",
    "        # 3. Deployment Preparation\n",
    "        # 4. Additional Information and Best Practices\n",
    "        "
   ]
  },
  {
   "cell_type": "markdown",
   "id": "b47a86f2",
   "metadata": {},
   "source": [
    "\n",
    "        # 1. Environment Setup\n",
    "        # ---------------------\n",
    "        # This section covers the setup of your Azure ML environment.\n",
    "        # Ensure that you have your conda specification YAML file (e.g., 'conda-specification.yml') ready.\n",
    "        "
   ]
  },
  {
   "cell_type": "code",
   "execution_count": 1,
   "id": "14c8aead",
   "metadata": {},
   "outputs": [
    {
     "name": "stderr",
     "output_type": "stream",
     "text": [
      "ERROR:root:Markdown file not found: ../TestData/test.md\n"
     ]
    },
    {
     "name": "stdout",
     "output_type": "stream",
     "text": [
      "None\n"
     ]
    }
   ],
   "source": [
    "\n",
    "import yaml  # This line is necessary to import the yaml module\n",
    "from azure.ai.ml import MLClient\n",
    "from azure.identity import DefaultAzureCredential\n",
    "from azure.ai.ml.entities import Environment\n",
    "\n",
    "# Define Azure ML workspace details\n",
    "subscription_id = '4687cb93-d705-45e9-8b96-cfc0ca8bca82'\n",
    "resource_group = 'Bryant.ellis-rg'\n",
    "workspace_name = 'ewaymlws-test'\n",
    "\n",
    "# Connect to the Azure ML workspace\n",
    "ml_client = MLClient(DefaultAzureCredential(), subscription_id, resource_group, workspace_name)\n",
    "\n",
    "# Define the path to the environment YAML file\n",
    "env_yaml_path = \"../../Components/File Reader/file_reader_environment.yml\"\n",
    "\n",
    "# Read the YAML file\n",
    "with open(env_yaml_path, 'r') as file:\n",
    "    env_definition = yaml.safe_load(file)\n",
    "\n",
    "# Ensure that the version is a string\n",
    "env_version = str(env_definition.get('version', '1'))\n",
    "\n",
    "# Create the environment object from the YAML definition\n",
    "env_from_yaml = Environment(\n",
    "    name=env_definition['name'],\n",
    "    version=env_version,  # Convert version to a string\n",
    "    description=env_definition.get('description', ''),\n",
    "    image=env_definition.get('image'),\n",
    "    conda_file=env_definition.get('conda_file')\n",
    ")\n",
    "\n",
    "# Create or update the environment in Azure ML\n",
    "ml_client.environments.create_or_update(env_from_yaml)\n",
    "\n",
    "\n",
    "# Create or update the environment in Azure ML\n",
    "ml_client.environments.create_or_update(env_from_yaml)\n",
    "# Adjusting Python path\n",
    "import sys\n",
    "sys.path.append(\"../../Components/File Reader\")  # Use the correct path to File Reader\n",
    "\n",
    "# Importing your custom module\n",
    "from FileReader import read_and_convert_md_to_html\n",
    "\n",
    "# Path to your test markdown file\n",
    "test_md_path = \"../../TestData/test.md\"  # Go up two levels and then into the TestData directory\n",
    "\n",
    "# Call the function and get the HTML content\n",
    "html_content = read_and_convert_md_to_html(test_md_path)\n",
    "\n",
    "# Print the HTML content to verify\n",
    "print(html_content)\n"
   ]
  },
  {
   "cell_type": "code",
   "execution_count": null,
   "id": "3b2621bd",
   "metadata": {},
   "outputs": [],
   "source": [
    "import os\n",
    "print(\"Current Working Directory: \", os.getcwd())\n"
   ]
  },
  {
   "cell_type": "code",
   "execution_count": null,
   "id": "9b504429",
   "metadata": {},
   "outputs": [],
   "source": []
  },
  {
   "cell_type": "code",
   "execution_count": null,
   "id": "610e318c",
   "metadata": {},
   "outputs": [],
   "source": []
  }
 ],
 "metadata": {
  "kernelspec": {
   "display_name": "Python 3.8 - AzureML",
   "language": "python",
   "name": "python38-azureml"
  },
  "language_info": {
   "codemirror_mode": {
    "name": "ipython",
    "version": 3
   },
   "file_extension": ".py",
   "mimetype": "text/x-python",
   "name": "python",
   "nbconvert_exporter": "python",
   "pygments_lexer": "ipython3",
   "version": "3.8.5"
  }
 },
 "nbformat": 4,
 "nbformat_minor": 5
}
